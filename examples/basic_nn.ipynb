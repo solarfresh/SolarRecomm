{
 "cells": [
  {
   "cell_type": "code",
   "execution_count": 1,
   "metadata": {},
   "outputs": [],
   "source": [
    "import numpy as np\n",
    "import pandas as pd\n",
    "from recomm.features import index_single_feature\n",
    "from recomm.estimator import ClassifierNN"
   ]
  },
  {
   "cell_type": "code",
   "execution_count": 2,
   "metadata": {},
   "outputs": [],
   "source": [
    "CSV_COLUMNS = [\n",
    "    \"age\", \"workclass\", \"fnlwgt\", \"education\", \"education_num\",\n",
    "    \"marital_status\", \"occupation\", \"relationship\", \"race\", \"gender\",\n",
    "    \"capital_gain\", \"capital_loss\", \"hours_per_week\", \"native_country\",\n",
    "    \"income_bracket\"\n",
    "]"
   ]
  },
  {
   "cell_type": "code",
   "execution_count": 3,
   "metadata": {},
   "outputs": [],
   "source": [
    "train_data = pd.read_csv(\"data/adult_train.csv\", \n",
    "                         names=CSV_COLUMNS, \n",
    "                         skiprows=1)\n",
    "test_data = pd.read_csv(\"data/adult_test.csv\", \n",
    "                        names=CSV_COLUMNS, \n",
    "                        skiprows=1)"
   ]
  },
  {
   "cell_type": "markdown",
   "metadata": {},
   "source": [
    "To try the case when features are labeled by indices:"
   ]
  },
  {
   "cell_type": "code",
   "execution_count": 8,
   "metadata": {},
   "outputs": [],
   "source": [
    "indiced_single_feature_data = pd.DataFrame(train_data.copy())\n",
    "for col in [\"workclass\", \"education\", \"marital_status\", \"occupation\", \"relationship\", \"race\", \"gender\", \"native_country\", \"income_bracket\"]:\n",
    "    indiced_single_feature_data.loc[:, col] = index_single_feature(indiced_single_feature_data[col].values)[0]\n",
    "indiced_single_feature_test = pd.DataFrame(test_data.copy())\n",
    "for col in [\"workclass\", \"education\", \"marital_status\", \"occupation\", \"relationship\", \"race\", \"gender\", \"native_country\", \"income_bracket\"]:\n",
    "    indiced_single_feature_test.loc[:, col] = index_single_feature(indiced_single_feature_test[col].values)[0]"
   ]
  },
  {
   "cell_type": "markdown",
   "metadata": {},
   "source": [
    "To rescale features"
   ]
  },
  {
   "cell_type": "code",
   "execution_count": 9,
   "metadata": {},
   "outputs": [],
   "source": [
    "indiced_single_feature_data = indiced_single_feature_data.apply(lambda x: (x - x.min()) / (x.max() - x.min()))\n",
    "indiced_single_features = indiced_single_feature_data[indiced_single_feature_data.columns[:-1]].values\n",
    "indiced_single_labels = indiced_single_feature_data[indiced_single_feature_data.columns[-1]].values\n",
    "indiced_single_feature_test = indiced_single_feature_test.apply(lambda x: (x - x.min()) / (x.max() - x.min()))\n",
    "indiced_single_features_test = indiced_single_feature_test[indiced_single_feature_test.columns[:-1]].values\n",
    "indiced_single_labels_test = indiced_single_feature_test[indiced_single_feature_test.columns[-1]].values"
   ]
  },
  {
   "cell_type": "code",
   "execution_count": 6,
   "metadata": {},
   "outputs": [],
   "source": [
    "indiced_single_features_estimator = ClassifierNN(indiced_single_features, indiced_single_labels)\\\n",
    "    .optimize(learning_rate=0.1)\\\n",
    "    .estimate()"
   ]
  },
  {
   "cell_type": "code",
   "execution_count": 7,
   "metadata": {},
   "outputs": [],
   "source": [
    "import tensorflow as tf"
   ]
  },
  {
   "cell_type": "code",
   "execution_count": 18,
   "metadata": {},
   "outputs": [],
   "source": [
    "test_label, = indiced_single_features_estimator._sess.run([indiced_single_features_estimator.estimated_labels],\n",
    "                                                        feed_dict={indiced_single_features_estimator.sample_features: indiced_single_features_test})"
   ]
  },
  {
   "cell_type": "code",
   "execution_count": 19,
   "metadata": {},
   "outputs": [
    {
     "data": {
      "text/plain": [
       "array([[-2416.75854492],\n",
       "       [-2974.71606445],\n",
       "       [-3010.95532227],\n",
       "       ..., \n",
       "       [-5823.18554688],\n",
       "       [-3483.34863281],\n",
       "       [-4899.68066406]], dtype=float32)"
      ]
     },
     "execution_count": 19,
     "metadata": {},
     "output_type": "execute_result"
    }
   ],
   "source": [
    "test_label"
   ]
  },
  {
   "cell_type": "code",
   "execution_count": null,
   "metadata": {},
   "outputs": [],
   "source": []
  }
 ],
 "metadata": {
  "kernelspec": {
   "display_name": "Python 3",
   "language": "python",
   "name": "python3"
  },
  "language_info": {
   "codemirror_mode": {
    "name": "ipython",
    "version": 3
   },
   "file_extension": ".py",
   "mimetype": "text/x-python",
   "name": "python",
   "nbconvert_exporter": "python",
   "pygments_lexer": "ipython3",
   "version": "3.6.2"
  }
 },
 "nbformat": 4,
 "nbformat_minor": 1
}
