{
 "cells": [
  {
   "cell_type": "code",
   "execution_count": 14,
   "metadata": {},
   "outputs": [],
   "source": [
    "import numpy as np\n",
    "import pandas as pd\n",
    "import plotly.graph_objs as go\n",
    "from plotly.offline import download_plotlyjs, init_notebook_mode, plot, iplot\n",
    "from recomm.classifier import ClassifierNN, ClassifierDNN"
   ]
  },
  {
   "cell_type": "code",
   "execution_count": 2,
   "metadata": {},
   "outputs": [],
   "source": [
    "init_notebook_mode(connected=True)"
   ]
  },
  {
   "cell_type": "code",
   "execution_count": 3,
   "metadata": {},
   "outputs": [],
   "source": [
    "tx_data = pd.read_csv(\"data/tx_data.csv\")"
   ]
  },
  {
   "cell_type": "code",
   "execution_count": 4,
   "metadata": {},
   "outputs": [],
   "source": [
    "# To construct 1 min k-line\n",
    "tx_data = tx_data.sort_values(by=\"create_time\")\n",
    "tx_data.loc[:, \"trade_time\"] = pd.to_datetime(tx_data[\"create_time\"].astype(\"str\").apply(lambda x: x[:-2]), format=\"%Y%m%d%H%M\")\n",
    "tx_data.loc[:, \"high\"] = tx_data.price\n",
    "tx_data.loc[:, \"low\"] = tx_data.price\n",
    "tx_1min_kline = tx_data.groupby([\"trade_time\"]).agg({\"high\": pd.Series.max, \"low\": pd.Series.min, \"volume\": pd.Series.sum})\n",
    "tx_1min_kline.loc[:, \"open\"] = tx_data.drop_duplicates([\"trade_time\"]).price.values\n",
    "tx_1min_kline.loc[:, \"close\"] = tx_data.drop_duplicates([\"trade_time\"], keep=\"last\").price.values"
   ]
  },
  {
   "cell_type": "markdown",
   "metadata": {},
   "source": [
    "# Data Pre-process\n",
    "The idea of the model is to pick an interval of the time series with open, high, low, close, and volume as fetures. More detail, we will consider the data from n-th k-line to (n+300)-th k-line as features and the growth rate of the (n+301)-th k-line as labels."
   ]
  },
  {
   "cell_type": "code",
   "execution_count": 5,
   "metadata": {
    "scrolled": true
   },
   "outputs": [],
   "source": [
    "feature_range = 300"
   ]
  },
  {
   "cell_type": "markdown",
   "metadata": {},
   "source": [
    "It is found the ratio between open and close is symmetry, and it is therefore grouped into 6 levels with boundarues 180e-6, 90e-6, 0, -90e-6, and -180e-6."
   ]
  },
  {
   "cell_type": "code",
   "execution_count": 1,
   "metadata": {},
   "outputs": [],
   "source": [
    "iplot([go.Histogram(x=(tx_1min_kline.close - tx_1min_kline.open) / tx_1min_kline.open)])"
   ]
  },
  {
   "cell_type": "code",
   "execution_count": 6,
   "metadata": {},
   "outputs": [],
   "source": [
    "train_data = []\n",
    "label_data = []\n",
    "for idx in range(feature_range, tx_1min_kline.shape[0]-1):\n",
    "    range_data = tx_1min_kline.iloc[(idx-feature_range):idx]\n",
    "    label = tx_1min_kline.iloc[idx+1]\n",
    "    label = (label.close - label.open) / label.open\n",
    "    train_data.append(range_data.values.reshape(-1))\n",
    "    if (label > 180e-6):\n",
    "        label_data.append([1, 0, 0, 0, 0, 0])\n",
    "    elif(label > 90e-6):\n",
    "        label_data.append([0, 1, 0, 0, 0, 0])\n",
    "    elif(label > 0):\n",
    "        label_data.append([0, 0, 1, 0, 0, 0])\n",
    "    elif(label > -90e-6):\n",
    "        label_data.append([0, 0, 0, 1, 0, 0])\n",
    "    elif(label > -180e-6):\n",
    "        label_data.append([0, 0, 0, 0, 1, 0])\n",
    "    else:\n",
    "        label_data.append([0, 0, 0, 0, 0, 1])\n",
    "train_features = np.array(train_data)\n",
    "train_labels = np.array(label_data)"
   ]
  },
  {
   "cell_type": "code",
   "execution_count": 7,
   "metadata": {},
   "outputs": [],
   "source": [
    "# To rescale features to values between 0 and 1\n",
    "train_features = np.apply_along_axis(lambda x: (x - np.min(x)) / (np.max(x) - np.min(x)), 1, train_features)"
   ]
  },
  {
   "cell_type": "code",
   "execution_count": 13,
   "metadata": {},
   "outputs": [],
   "source": [
    "test_features = train_features[20000:]\n",
    "test_labels = train_labels[20000:]\n",
    "train_features = train_features[:20000]\n",
    "train_labels = train_labels[:20000]"
   ]
  },
  {
   "cell_type": "code",
   "execution_count": null,
   "metadata": {},
   "outputs": [],
   "source": []
  },
  {
   "cell_type": "code",
   "execution_count": null,
   "metadata": {},
   "outputs": [],
   "source": []
  }
 ],
 "metadata": {
  "kernelspec": {
   "display_name": "Python 3",
   "language": "python",
   "name": "python3"
  },
  "language_info": {
   "codemirror_mode": {
    "name": "ipython",
    "version": 3
   },
   "file_extension": ".py",
   "mimetype": "text/x-python",
   "name": "python",
   "nbconvert_exporter": "python",
   "pygments_lexer": "ipython3",
   "version": "3.6.2"
  }
 },
 "nbformat": 4,
 "nbformat_minor": 1
}
