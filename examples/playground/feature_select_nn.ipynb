{
 "cells": [
  {
   "cell_type": "code",
   "execution_count": 1,
   "metadata": {},
   "outputs": [],
   "source": [
    "import numpy as np\n",
    "import pandas as pd\n",
    "import plotly.graph_objs as go\n",
    "from plotly.offline import download_plotlyjs, init_notebook_mode, plot, iplot\n",
    "from recomm.classifier import ClassifierNN, ClassifierDNN"
   ]
  },
  {
   "cell_type": "markdown",
   "metadata": {},
   "source": [
    "In this section, we are going to study the performance of neural network when there are noisy features which are not essential dimensions corresponding to interesting labels. A toy model is constructed and the features simply exist 0 or 1 on the corresponding dimension. Here, labels are set equal to the features and an identity weight with zero mean bias must be obtained from this model."
   ]
  },
  {
   "cell_type": "markdown",
   "metadata": {},
   "source": [
    "# Features and Labels"
   ]
  },
  {
   "cell_type": "code",
   "execution_count": 11,
   "metadata": {},
   "outputs": [],
   "source": [
    "features = np.ceil(5 * np.random.rand(50000))\n",
    "features = pd.get_dummies(features)\n",
    "labels = pd.DataFrame(features.copy())"
   ]
  },
  {
   "cell_type": "code",
   "execution_count": 12,
   "metadata": {},
   "outputs": [
    {
     "data": {
      "text/html": [
       "<div>\n",
       "<style>\n",
       "    .dataframe thead tr:only-child th {\n",
       "        text-align: right;\n",
       "    }\n",
       "\n",
       "    .dataframe thead th {\n",
       "        text-align: left;\n",
       "    }\n",
       "\n",
       "    .dataframe tbody tr th {\n",
       "        vertical-align: top;\n",
       "    }\n",
       "</style>\n",
       "<table border=\"1\" class=\"dataframe\">\n",
       "  <thead>\n",
       "    <tr style=\"text-align: right;\">\n",
       "      <th></th>\n",
       "      <th>1.0</th>\n",
       "      <th>2.0</th>\n",
       "      <th>3.0</th>\n",
       "      <th>4.0</th>\n",
       "      <th>5.0</th>\n",
       "    </tr>\n",
       "  </thead>\n",
       "  <tbody>\n",
       "    <tr>\n",
       "      <th>0</th>\n",
       "      <td>1</td>\n",
       "      <td>0</td>\n",
       "      <td>0</td>\n",
       "      <td>0</td>\n",
       "      <td>0</td>\n",
       "    </tr>\n",
       "    <tr>\n",
       "      <th>1</th>\n",
       "      <td>0</td>\n",
       "      <td>0</td>\n",
       "      <td>0</td>\n",
       "      <td>0</td>\n",
       "      <td>1</td>\n",
       "    </tr>\n",
       "    <tr>\n",
       "      <th>2</th>\n",
       "      <td>0</td>\n",
       "      <td>0</td>\n",
       "      <td>1</td>\n",
       "      <td>0</td>\n",
       "      <td>0</td>\n",
       "    </tr>\n",
       "    <tr>\n",
       "      <th>3</th>\n",
       "      <td>0</td>\n",
       "      <td>0</td>\n",
       "      <td>0</td>\n",
       "      <td>0</td>\n",
       "      <td>1</td>\n",
       "    </tr>\n",
       "    <tr>\n",
       "      <th>4</th>\n",
       "      <td>0</td>\n",
       "      <td>0</td>\n",
       "      <td>0</td>\n",
       "      <td>1</td>\n",
       "      <td>0</td>\n",
       "    </tr>\n",
       "  </tbody>\n",
       "</table>\n",
       "</div>"
      ],
      "text/plain": [
       "   1.0  2.0  3.0  4.0  5.0\n",
       "0    1    0    0    0    0\n",
       "1    0    0    0    0    1\n",
       "2    0    0    1    0    0\n",
       "3    0    0    0    0    1\n",
       "4    0    0    0    1    0"
      ]
     },
     "execution_count": 12,
     "metadata": {},
     "output_type": "execute_result"
    }
   ],
   "source": [
    "features.head()"
   ]
  },
  {
   "cell_type": "code",
   "execution_count": 13,
   "metadata": {},
   "outputs": [
    {
     "data": {
      "text/html": [
       "<div>\n",
       "<style>\n",
       "    .dataframe thead tr:only-child th {\n",
       "        text-align: right;\n",
       "    }\n",
       "\n",
       "    .dataframe thead th {\n",
       "        text-align: left;\n",
       "    }\n",
       "\n",
       "    .dataframe tbody tr th {\n",
       "        vertical-align: top;\n",
       "    }\n",
       "</style>\n",
       "<table border=\"1\" class=\"dataframe\">\n",
       "  <thead>\n",
       "    <tr style=\"text-align: right;\">\n",
       "      <th></th>\n",
       "      <th>1.0</th>\n",
       "      <th>2.0</th>\n",
       "      <th>3.0</th>\n",
       "      <th>4.0</th>\n",
       "      <th>5.0</th>\n",
       "    </tr>\n",
       "  </thead>\n",
       "  <tbody>\n",
       "    <tr>\n",
       "      <th>0</th>\n",
       "      <td>1</td>\n",
       "      <td>0</td>\n",
       "      <td>0</td>\n",
       "      <td>0</td>\n",
       "      <td>0</td>\n",
       "    </tr>\n",
       "    <tr>\n",
       "      <th>1</th>\n",
       "      <td>0</td>\n",
       "      <td>0</td>\n",
       "      <td>0</td>\n",
       "      <td>0</td>\n",
       "      <td>1</td>\n",
       "    </tr>\n",
       "    <tr>\n",
       "      <th>2</th>\n",
       "      <td>0</td>\n",
       "      <td>0</td>\n",
       "      <td>1</td>\n",
       "      <td>0</td>\n",
       "      <td>0</td>\n",
       "    </tr>\n",
       "    <tr>\n",
       "      <th>3</th>\n",
       "      <td>0</td>\n",
       "      <td>0</td>\n",
       "      <td>0</td>\n",
       "      <td>0</td>\n",
       "      <td>1</td>\n",
       "    </tr>\n",
       "    <tr>\n",
       "      <th>4</th>\n",
       "      <td>0</td>\n",
       "      <td>0</td>\n",
       "      <td>0</td>\n",
       "      <td>1</td>\n",
       "      <td>0</td>\n",
       "    </tr>\n",
       "  </tbody>\n",
       "</table>\n",
       "</div>"
      ],
      "text/plain": [
       "   1.0  2.0  3.0  4.0  5.0\n",
       "0    1    0    0    0    0\n",
       "1    0    0    0    0    1\n",
       "2    0    0    1    0    0\n",
       "3    0    0    0    0    1\n",
       "4    0    0    0    1    0"
      ]
     },
     "execution_count": 13,
     "metadata": {},
     "output_type": "execute_result"
    }
   ],
   "source": [
    "labels.head()"
   ]
  },
  {
   "cell_type": "code",
   "execution_count": 14,
   "metadata": {},
   "outputs": [],
   "source": [
    "train_features = features.iloc[:40000].values\n",
    "train_labels = labels.iloc[:40000].values\n",
    "test_features = features.iloc[40000:].values\n",
    "test_labels = labels.iloc[40000:].values"
   ]
  },
  {
   "cell_type": "code",
   "execution_count": 15,
   "metadata": {},
   "outputs": [],
   "source": [
    "accuracy = ClassifierNN(train_features, train_labels)\\\n",
    "            .build_network()\\\n",
    "            .set_objective(method=\"l2_loss\")\\\n",
    "            .optimize()\\\n",
    "            .estimate(batch_size=1000, learning_rate=1e-2)\\\n",
    "            .predict(test_features)\\\n",
    "            .activate_label()\\\n",
    "            .get_accuracy(test_labels)\\\n",
    "            .accuracy"
   ]
  },
  {
   "cell_type": "markdown",
   "metadata": {},
   "source": [
    "Finally, the perfect result is obtained definitely."
   ]
  },
  {
   "cell_type": "code",
   "execution_count": 16,
   "metadata": {},
   "outputs": [
    {
     "data": {
      "text/plain": [
       "1.0"
      ]
     },
     "execution_count": 16,
     "metadata": {},
     "output_type": "execute_result"
    }
   ],
   "source": [
    "accuracy"
   ]
  },
  {
   "cell_type": "markdown",
   "metadata": {},
   "source": [
    "# Add Noisy Features"
   ]
  },
  {
   "cell_type": "markdown",
   "metadata": {},
   "source": [
    "Next step, additional noisy feature is built with uniform random distribution between 0 and 1."
   ]
  },
  {
   "cell_type": "code",
   "execution_count": 34,
   "metadata": {},
   "outputs": [],
   "source": [
    "features_wi_noise = pd.DataFrame(features.copy())\n",
    "noise_dim = np.arange(10)\n",
    "accuracy = []\n",
    "for idx in noise_dim:\n",
    "    features_wi_noise.loc[:, \"noise_{}\".format(idx)] = np.random.rand(features_wi_noise.shape[0])\n",
    "    train_features = features_wi_noise.iloc[:40000].values\n",
    "    train_labels = labels.iloc[:40000].values\n",
    "    test_features = features_wi_noise.iloc[40000:].values\n",
    "    test_labels = labels.iloc[40000:].values\n",
    "    accuracy.append(ClassifierNN(train_features, train_labels)\\\n",
    "            .build_network()\\\n",
    "            .set_objective(method=\"l2_loss\")\\\n",
    "            .optimize()\\\n",
    "            .estimate(batch_size=1000, learning_rate=1e-2)\\\n",
    "            .predict(test_features)\\\n",
    "            .activate_label()\\\n",
    "            .get_accuracy(test_labels)\\\n",
    "            .accuracy)"
   ]
  },
  {
   "cell_type": "code",
   "execution_count": 35,
   "metadata": {},
   "outputs": [
    {
     "data": {
      "text/html": [
       "<div>\n",
       "<style>\n",
       "    .dataframe thead tr:only-child th {\n",
       "        text-align: right;\n",
       "    }\n",
       "\n",
       "    .dataframe thead th {\n",
       "        text-align: left;\n",
       "    }\n",
       "\n",
       "    .dataframe tbody tr th {\n",
       "        vertical-align: top;\n",
       "    }\n",
       "</style>\n",
       "<table border=\"1\" class=\"dataframe\">\n",
       "  <thead>\n",
       "    <tr style=\"text-align: right;\">\n",
       "      <th></th>\n",
       "      <th>1.0</th>\n",
       "      <th>2.0</th>\n",
       "      <th>3.0</th>\n",
       "      <th>4.0</th>\n",
       "      <th>5.0</th>\n",
       "      <th>noise_0</th>\n",
       "      <th>noise_1</th>\n",
       "      <th>noise_2</th>\n",
       "      <th>noise_3</th>\n",
       "      <th>noise_4</th>\n",
       "      <th>noise_5</th>\n",
       "      <th>noise_6</th>\n",
       "      <th>noise_7</th>\n",
       "      <th>noise_8</th>\n",
       "      <th>noise_9</th>\n",
       "    </tr>\n",
       "  </thead>\n",
       "  <tbody>\n",
       "    <tr>\n",
       "      <th>0</th>\n",
       "      <td>1</td>\n",
       "      <td>0</td>\n",
       "      <td>0</td>\n",
       "      <td>0</td>\n",
       "      <td>0</td>\n",
       "      <td>0.991015</td>\n",
       "      <td>0.916851</td>\n",
       "      <td>0.302856</td>\n",
       "      <td>0.150913</td>\n",
       "      <td>0.713510</td>\n",
       "      <td>0.191185</td>\n",
       "      <td>0.439378</td>\n",
       "      <td>0.445062</td>\n",
       "      <td>0.810402</td>\n",
       "      <td>0.225242</td>\n",
       "    </tr>\n",
       "    <tr>\n",
       "      <th>1</th>\n",
       "      <td>0</td>\n",
       "      <td>0</td>\n",
       "      <td>0</td>\n",
       "      <td>0</td>\n",
       "      <td>1</td>\n",
       "      <td>0.357655</td>\n",
       "      <td>0.244297</td>\n",
       "      <td>0.263289</td>\n",
       "      <td>0.591254</td>\n",
       "      <td>0.565913</td>\n",
       "      <td>0.474834</td>\n",
       "      <td>0.620605</td>\n",
       "      <td>0.937182</td>\n",
       "      <td>0.227848</td>\n",
       "      <td>0.500562</td>\n",
       "    </tr>\n",
       "    <tr>\n",
       "      <th>2</th>\n",
       "      <td>0</td>\n",
       "      <td>0</td>\n",
       "      <td>1</td>\n",
       "      <td>0</td>\n",
       "      <td>0</td>\n",
       "      <td>0.727514</td>\n",
       "      <td>0.082685</td>\n",
       "      <td>0.036956</td>\n",
       "      <td>0.596959</td>\n",
       "      <td>0.614090</td>\n",
       "      <td>0.141170</td>\n",
       "      <td>0.949408</td>\n",
       "      <td>0.992566</td>\n",
       "      <td>0.621637</td>\n",
       "      <td>0.752620</td>\n",
       "    </tr>\n",
       "    <tr>\n",
       "      <th>3</th>\n",
       "      <td>0</td>\n",
       "      <td>0</td>\n",
       "      <td>0</td>\n",
       "      <td>0</td>\n",
       "      <td>1</td>\n",
       "      <td>0.246399</td>\n",
       "      <td>0.657806</td>\n",
       "      <td>0.306668</td>\n",
       "      <td>0.730000</td>\n",
       "      <td>0.975433</td>\n",
       "      <td>0.324179</td>\n",
       "      <td>0.652441</td>\n",
       "      <td>0.628402</td>\n",
       "      <td>0.633587</td>\n",
       "      <td>0.533036</td>\n",
       "    </tr>\n",
       "    <tr>\n",
       "      <th>4</th>\n",
       "      <td>0</td>\n",
       "      <td>0</td>\n",
       "      <td>0</td>\n",
       "      <td>1</td>\n",
       "      <td>0</td>\n",
       "      <td>0.700609</td>\n",
       "      <td>0.206877</td>\n",
       "      <td>0.737523</td>\n",
       "      <td>0.977467</td>\n",
       "      <td>0.095448</td>\n",
       "      <td>0.415794</td>\n",
       "      <td>0.423756</td>\n",
       "      <td>0.954515</td>\n",
       "      <td>0.617185</td>\n",
       "      <td>0.625899</td>\n",
       "    </tr>\n",
       "  </tbody>\n",
       "</table>\n",
       "</div>"
      ],
      "text/plain": [
       "   1.0  2.0  3.0  4.0  5.0   noise_0   noise_1   noise_2   noise_3   noise_4  \\\n",
       "0    1    0    0    0    0  0.991015  0.916851  0.302856  0.150913  0.713510   \n",
       "1    0    0    0    0    1  0.357655  0.244297  0.263289  0.591254  0.565913   \n",
       "2    0    0    1    0    0  0.727514  0.082685  0.036956  0.596959  0.614090   \n",
       "3    0    0    0    0    1  0.246399  0.657806  0.306668  0.730000  0.975433   \n",
       "4    0    0    0    1    0  0.700609  0.206877  0.737523  0.977467  0.095448   \n",
       "\n",
       "    noise_5   noise_6   noise_7   noise_8   noise_9  \n",
       "0  0.191185  0.439378  0.445062  0.810402  0.225242  \n",
       "1  0.474834  0.620605  0.937182  0.227848  0.500562  \n",
       "2  0.141170  0.949408  0.992566  0.621637  0.752620  \n",
       "3  0.324179  0.652441  0.628402  0.633587  0.533036  \n",
       "4  0.415794  0.423756  0.954515  0.617185  0.625899  "
      ]
     },
     "execution_count": 35,
     "metadata": {},
     "output_type": "execute_result"
    }
   ],
   "source": [
    "features_wi_noise.head()"
   ]
  },
  {
   "cell_type": "markdown",
   "metadata": {},
   "source": [
    "Results indicate we are still able to obtain perfect labels, and additional noisy features disturb nothing."
   ]
  },
  {
   "cell_type": "code",
   "execution_count": 36,
   "metadata": {},
   "outputs": [
    {
     "data": {
      "text/plain": [
       "array([ 1.,  1.,  1.,  1.,  1.,  1.,  1.,  1.,  1.,  1.])"
      ]
     },
     "execution_count": 36,
     "metadata": {},
     "output_type": "execute_result"
    }
   ],
   "source": [
    "np.array(accuracy).T"
   ]
  },
  {
   "cell_type": "code",
   "execution_count": null,
   "metadata": {},
   "outputs": [],
   "source": []
  }
 ],
 "metadata": {
  "kernelspec": {
   "display_name": "Python 3",
   "language": "python",
   "name": "python3"
  },
  "language_info": {
   "codemirror_mode": {
    "name": "ipython",
    "version": 3
   },
   "file_extension": ".py",
   "mimetype": "text/x-python",
   "name": "python",
   "nbconvert_exporter": "python",
   "pygments_lexer": "ipython3",
   "version": "3.6.2"
  }
 },
 "nbformat": 4,
 "nbformat_minor": 2
}
